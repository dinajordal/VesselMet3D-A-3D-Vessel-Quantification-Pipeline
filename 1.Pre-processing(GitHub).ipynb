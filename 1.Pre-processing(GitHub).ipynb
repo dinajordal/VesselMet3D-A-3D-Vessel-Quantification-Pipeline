{
 "cells": [
  {
   "cell_type": "markdown",
   "id": "2f827b3f",
   "metadata": {},
   "source": [
    "# Pre-processing\n",
    "## this code takes the original lif file and preps it for inference on the nnU-net trained model \n",
    "all it does it convert the lif file into nrrd with ethe scale as header \n",
    "then it extract the green channel only \n",
    "\n",
    "\n",
    "\n",
    "## to transfer lif to hpc:\n",
    "\n",
    "scp -r \"/Volumes/Salem HD/Salem 63x Chip images/Pretty chips for pub 28-1-25 H+N, H+M.lif\" dj724@login.hpc.ic.ac.uk:/rds/general/user/dj724/home/msc-project/lif_files"
   ]
  },
  {
   "cell_type": "code",
   "execution_count": 1,
   "id": "d0d18bfa",
   "metadata": {},
   "outputs": [],
   "source": [
    "# Load modules \n",
    "import os \n",
    "import numpy as np\n",
    "from readlif.reader import LifFile\n",
    "import nrrd\n",
    "import matplotlib.pyplot as plt"
   ]
  },
  {
   "cell_type": "code",
   "execution_count": 2,
   "id": "2b60e8bf",
   "metadata": {},
   "outputs": [],
   "source": [
    "# Paths and filenames\n",
    "lif_path = \"  \" #path to the lif file \n",
    "lif_file_name = \" \" #name of file for organisation purposes\n",
    "output_folder = \" \" #location to store the image for inference\n",
    "os.makedirs(output_folder, exist_ok=True) # if the output folder does not exist then create it\n",
    "\n",
    "# Select the image number in the lif file stack\n",
    "image_nr_in_stack = 4\n",
    "i = image_nr_in_stack -1 #make sure it is in python numbering which starts from 0\n",
    "\n",
    "case_identifier = \"Vessels#\" #choose any"
   ]
  },
  {
   "cell_type": "code",
   "execution_count": 3,
   "id": "e27f3e73",
   "metadata": {},
   "outputs": [
    {
     "name": "stdout",
     "output_type": "stream",
     "text": [
      "Z slices: 116, Channels: 3\n",
      "Image shape: (116, 3, 1051, 1932)\n"
     ]
    }
   ],
   "source": [
    "# Load LIF file and specific image\n",
    "lif = LifFile(lif_path)\n",
    "lif_image = lif.get_image(i)  # 0-indexed\n",
    "\n",
    "# Retrieve the dimensions of the selected image\n",
    "# 'Z' represents the number of Z-slices (depth).\n",
    "# 'C' represents the number of channels (colours).\n",
    "Z = lif_image.dims.z\n",
    "C = lif_image.channels\n",
    "print(f\"Z slices: {Z}, Channels: {C}\")\n",
    "\n",
    "# Load full stack into shape (Z, C, Y, X)\n",
    "image = np.stack([ #concatenates Z-slices\n",
    "    np.stack([ #concatenates channels\n",
    "        np.array(lif_image.get_frame(z=z, c=c)) #retrieves a single 2D frame.\n",
    "        for c in range(C)\n",
    "    ], axis=0)\n",
    "    for z in range(Z)\n",
    "], axis=0)\n",
    "\n",
    "print(\"Image shape:\", image.shape)  # Expect (Z, C, Y, X)"
   ]
  },
  {
   "cell_type": "code",
   "execution_count": 4,
   "id": "245762ef",
   "metadata": {},
   "outputs": [
    {
     "name": "stdout",
     "output_type": "stream",
     "text": [
      "Voxel scale (um): [4.158000576650727, 4.15800086486418, 2.0061993303829992]\n",
      "Voxel scale (mm): [0.0041580005766507265, 0.00415800086486418, 0.0020061993303829993]\n"
     ]
    }
   ],
   "source": [
    "# get spacing infromation of the image\n",
    "scale_um = list(lif_image.scale[:3])  # [x_scale, y_scale, z_scale] in µm\n",
    "scale_mm = [s / 1000 for s in scale_um]  # mm\n",
    "spacing_mm = [1/s for s in scale_mm]\n",
    "# you are supposed to use scale um instead of spacing. this is preprocessing and will be adjusted for during post-processing\n",
    "print(\"Voxel scale (um):\", scale_um)\n",
    "print(\"Voxel scale (mm):\", scale_mm)"
   ]
  },
  {
   "cell_type": "code",
   "execution_count": 5,
   "id": "f9b77bf4",
   "metadata": {},
   "outputs": [
    {
     "name": "stdout",
     "output_type": "stream",
     "text": [
      "Channel 0 transposed shape: (1932, 1051, 116)\n",
      "Saved: /rds/general/user/dj724/home/msc-project/Output_files_step1test/testforben_0000.nrrd\n",
      "Channel 1 transposed shape: (1932, 1051, 116)\n",
      "Saved: /rds/general/user/dj724/home/msc-project/Output_files_step1test/testforben_0001.nrrd\n",
      "Channel 2 transposed shape: (1932, 1051, 116)\n",
      "Saved: /rds/general/user/dj724/home/msc-project/Output_files_step1test/testforben_0002.nrrd\n",
      "All NRRD files saved with SCALE! and orientation\n"
     ]
    }
   ],
   "source": [
    "# Save each channel to NRRD in (X, Y, Z) format\n",
    "for c in range(C):\n",
    "    channel_data = image[:, c, :, :]  # shape: (Z, Y, X)\n",
    "    \n",
    "    # Transpose from (Z, Y, X) → (X, Y, Z)\n",
    "    channel_data_xyz = np.transpose(channel_data, (2, 1, 0))  # Now (X, Y, Z)\n",
    "    print(f\"Channel {c} transposed shape:\", channel_data_xyz.shape)\n",
    "\n",
    "    # Define NRRD header\n",
    "    header = {\n",
    "        'space': 'left-posterior-superior',  # default used by Slicer (RAS)\n",
    "        'space directions': [\n",
    "            [scale_mm[0], 0.0, 0.0],  # X\n",
    "            [0.0, scale_mm[1], 0.0],  # Y\n",
    "            [0.0, 0.0, scale_mm[2]]   # Z\n",
    "        ],\n",
    "        'kinds': ['domain', 'domain', 'domain'],\n",
    "        'encoding': 'raw',\n",
    "        'type': 'float' if channel_data_xyz.dtype in [np.float32, np.float64] else 'uint8'\n",
    "    }\n",
    "\n",
    "    filename = f\"{case_identifier}_{c:04d}.nrrd\"\n",
    "    filepath = os.path.join(output_folder, filename)\n",
    "    nrrd.write(filepath, channel_data_xyz, header)\n",
    "    print(f\"Saved: {filepath}\")\n",
    "    \n",
    "# The images need to have scale mm as spacing and not spacing due to mistakes during training. this does not impact the inference performance!\n",
    "print(\"All NRRD files saved with SCALE! and orientation\")"
   ]
  },
  {
   "cell_type": "markdown",
   "id": "aa751ddb-4a3a-4cf8-b563-ec6a01b51465",
   "metadata": {},
   "source": [
    "Preprocessing is completed. The codes below are for test purposes only to make sure that everything has been uploaded properly and also to check which channel belong to the proper staing channel wich should be staining the vessel membrane with WGA"
   ]
  },
  {
   "cell_type": "code",
   "execution_count": 8,
   "id": "37a4f1a3",
   "metadata": {},
   "outputs": [
    {
     "name": "stdout",
     "output_type": "stream",
     "text": [
      "Shape: (1932, 1051, 116)\n"
     ]
    },
    {
     "data": {
      "image/png": "[encoded data removed]",
      "text/plain": [
       "<Figure size 640x480 with 1 Axes>"
      ]
     },
     "metadata": {},
     "output_type": "display_data"
    }
   ],
   "source": [
    "#Check the midle z-slice in the image to confirm that the image is correct for further inference\n",
    "# If you are not sure which of the channels belong to the correct one, you check each of the images\n",
    "\n",
    "#here the 2nd channel, indicated by 0002 was the green channel. \n",
    "data, header = nrrd.read(\"/rds/general/user/dj724/home/msc-project/Output_files_step1test/testforben_0002.nrrd\")\n",
    "\n",
    "print(\"Shape:\", data.shape)\n",
    "\n",
    "# Show middle Z-slice\n",
    "middle_z = data.shape[2] // 2\n",
    "plt.imshow(data[:, :, middle_z], cmap='gray')\n",
    "plt.title(f\"Z slice {middle_z}\")\n",
    "plt.axis('off')\n",
    "plt.show()"
   ]
  },
  {
   "cell_type": "code",
   "execution_count": 23,
   "id": "1ed7a70a",
   "metadata": {},
   "outputs": [
    {
     "name": "stdout",
     "output_type": "stream",
     "text": [
      "[[0.004158  0.        0.       ]\n",
      " [0.        0.004158  0.       ]\n",
      " [0.        0.        0.0020062]]\n"
     ]
    }
   ],
   "source": [
    "#check that the spacing is actuallt scale!\n",
    "print(header['space directions'])\n"
   ]
  }
 ],
 "metadata": {
  "kernelspec": {
   "display_name": "post_nnunet",
   "language": "python",
   "name": "post_nnunet"
  },
  "language_info": {
   "codemirror_mode": {
    "name": "ipython",
    "version": 3
   },
   "file_extension": ".py",
   "mimetype": "text/x-python",
   "name": "python",
   "nbconvert_exporter": "python",
   "pygments_lexer": "ipython3",
   "version": "3.9.23"
  }
 },
 "nbformat": 4,
 "nbformat_minor": 5
}
